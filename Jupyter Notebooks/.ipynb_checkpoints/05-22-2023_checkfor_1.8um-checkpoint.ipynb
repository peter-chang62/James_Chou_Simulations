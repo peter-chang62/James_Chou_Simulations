{
 "cells": [
  {
   "cell_type": "code",
   "execution_count": 1,
   "id": "811aa00e",
   "metadata": {},
   "outputs": [],
   "source": [
    "# %% ----- package imports\n",
    "import matplotlib.pyplot as plt\n",
    "import numpy as np\n",
    "import clipboard_and_style_sheet as cr\n",
    "import tables\n",
    "import pynlo_extras as pe\n",
    "from scipy.integrate import simpson\n"
   ]
  },
  {
   "cell_type": "code",
   "execution_count": 2,
   "id": "df6a00e0",
   "metadata": {},
   "outputs": [],
   "source": [
    "%matplotlib inline"
   ]
  },
  {
   "cell_type": "code",
   "execution_count": 3,
   "id": "47254968",
   "metadata": {},
   "outputs": [],
   "source": [
    "c = 299792458.0\n",
    "pJ = 1e-12\n",
    "nm = 1e-9\n",
    "ps = 1e-12\n",
    "W = 1e3\n",
    "\n",
    "# nm, pJ/nm, rad\n",
    "spectrum = np.genfromtxt(\"../210526_2.0W_spectrum.txt\", skip_header=1)\n",
    "spectrum[:, 0] = c / (spectrum[:, 0] * nm)\n",
    "spectrum[:, 1] *= pJ / nm\n",
    "\n",
    "# ps, W, rad\n",
    "time = np.genfromtxt(\"../210526_2.0W_pulse.txt\", skip_header=1)\n",
    "time[:, 0] *= ps\n",
    "time[:, 1] *= W\n",
    "\n",
    "atom = tables.Float64Atom()\n",
    "file = tables.open_file(\"../210526_2.0W_pulse.h5\", \"w\")\n",
    "\n",
    "file.create_array(where=file.root, name=\"v_grid\", atom=atom, obj=spectrum[:, 0])\n",
    "file.create_array(where=file.root, name=\"p_v\", atom=atom, obj=spectrum[:, 1])\n",
    "file.create_array(where=file.root, name=\"phi_v\", atom=atom, obj=spectrum[:, 2])\n",
    "\n",
    "file.create_array(where=file.root, name=\"t_grid\", atom=atom, obj=time[:, 0])\n",
    "file.create_array(where=file.root, name=\"p_t\", atom=atom, obj=time[:, 1])\n",
    "file.create_array(where=file.root, name=\"phi_t\", atom=atom, obj=time[:, 2])\n",
    "\n",
    "file.close()\n"
   ]
  },
  {
   "cell_type": "code",
   "execution_count": 4,
   "id": "41fd5db2",
   "metadata": {
    "scrolled": false
   },
   "outputs": [
    {
     "ename": "NameError",
     "evalue": "name 'pulse' is not defined",
     "output_type": "error",
     "traceback": [
      "\u001b[0;31m---------------------------------------------------------------------------\u001b[0m",
      "\u001b[0;31mNameError\u001b[0m                                 Traceback (most recent call last)",
      "Cell \u001b[0;32mIn[4], line 2\u001b[0m\n\u001b[1;32m      1\u001b[0m t_grid \u001b[38;5;241m=\u001b[39m np\u001b[38;5;241m.\u001b[39marange(\u001b[38;5;241m-\u001b[39m\u001b[38;5;241m750e-15\u001b[39m, \u001b[38;5;241m750e-15\u001b[39m, \u001b[38;5;241m1e-15\u001b[39m)\n\u001b[0;32m----> 2\u001b[0m v_grid, spctgm \u001b[38;5;241m=\u001b[39m \u001b[43mpulse\u001b[49m\u001b[38;5;241m.\u001b[39mcalculate_spectrogram(t_grid)\n\u001b[1;32m      4\u001b[0m fig_spctgm, ax_spctgm \u001b[38;5;241m=\u001b[39m plt\u001b[38;5;241m.\u001b[39msubplots(\u001b[38;5;241m1\u001b[39m, \u001b[38;5;241m1\u001b[39m)\n\u001b[1;32m      5\u001b[0m ax_spctgm\u001b[38;5;241m.\u001b[39mpcolormesh(t_grid \u001b[38;5;241m*\u001b[39m \u001b[38;5;241m1e15\u001b[39m, c \u001b[38;5;241m*\u001b[39m \u001b[38;5;241m1e6\u001b[39m \u001b[38;5;241m/\u001b[39m v_grid, spctgm\u001b[38;5;241m.\u001b[39mT, cmap\u001b[38;5;241m=\u001b[39m\u001b[38;5;124m\"\u001b[39m\u001b[38;5;124minferno\u001b[39m\u001b[38;5;124m\"\u001b[39m)\n",
      "\u001b[0;31mNameError\u001b[0m: name 'pulse' is not defined"
     ]
    }
   ],
   "source": [
    "t_grid = np.arange(-750e-15, 750e-15, 1e-15)\n",
    "v_grid, spctgm = pulse.calculate_spectrogram(t_grid)\n",
    "\n",
    "fig_spctgm, ax_spctgm = plt.subplots(1, 1)\n",
    "ax_spctgm.pcolormesh(t_grid * 1e15, c * 1e6 / v_grid, spctgm.T, cmap=\"inferno\")\n",
    "ax_spctgm.set_ylim(1.49, 1.62)\n",
    "ax_spctgm.set_xlabel(\"time (fs)\")\n",
    "ax_spctgm.set_ylabel(\"wavelength ($\\\\mathrm{\\\\mu m}$)\")\n"
   ]
  },
  {
   "cell_type": "code",
   "execution_count": null,
   "id": "d733edf0",
   "metadata": {},
   "outputs": [],
   "source": [
    "hnlf = pe.materials.Fiber()\n",
    "pm1550 = pe.materials.Fiber()\n",
    "pm1550.load_fiber_from_dict(pe.materials.pm1550, axis=\"slow\")\n",
    "hnlf.load_fiber_from_dict(pe.materials.hnlf_5p7_pooja, axis=\"slow\")\n",
    "\n",
    "model_pm1550 = pm1550.generate_model(pulse)\n",
    "dz = pe.utilities.estimate_step_size(model_pm1550, local_error=1e-6)\n",
    "result_pm1550 = model_pm1550.simulate(\n",
    "    5.5e-2,\n",
    "    dz=dz,\n",
    "    local_error=1e-6,\n",
    "    n_records=250,\n",
    "    plot=None,\n",
    ")\n",
    "\n",
    "model_hnlf = hnlf.generate_model(result_pm1550.pulse_out, t_shock=None)\n",
    "dz = pe.utilities.estimate_step_size(model_hnlf, local_error=1e-6)\n",
    "result_hnlf = model_hnlf.simulate(\n",
    "    5e-2,\n",
    "    dz=dz,\n",
    "    local_error=1e-6,\n",
    "    n_records=250,\n",
    ")\n"
   ]
  },
  {
   "cell_type": "code",
   "execution_count": null,
   "id": "d185bdf1",
   "metadata": {},
   "outputs": [],
   "source": [
    "fig, ax = result_hnlf.plot(\"wvl\")\n",
    "ax[1, 0].axhline(20, color=\"C2\", linestyle=\"--\")\n"
   ]
  },
  {
   "cell_type": "code",
   "execution_count": null,
   "id": "e461a329",
   "metadata": {},
   "outputs": [],
   "source": [
    "ind_end = np.argmin(abs(result_hnlf.z - .02))\n",
    "norm = result_hnlf.p_v[ind_end].max()\n",
    "fig, ax = plt.subplots(1, 1)\n",
    "ax.semilogy(pulse.wl_grid * 1e6, result_hnlf.p_v[ind_end] / norm)\n",
    "ax.set_ylim(ymin=1e-2)\n",
    "ax.set_xlim(1.2, 1.9)\n",
    "ax.set_xlabel(\"wavelength ($\\\\mathrm{\\\\mu m}$)\")"
   ]
  },
  {
   "cell_type": "code",
   "execution_count": null,
   "id": "18e9d621",
   "metadata": {},
   "outputs": [],
   "source": [
    "p_v_out = result_hnlf.p_v[ind_end]\n",
    "\n",
    "# 10 nm bandpasses around 1450 and 1800 nm\n",
    "(ind_1450_10nm,) = np.logical_and(\n",
    "    (1450 - 5) < pulse.wl_grid * 1e9, pulse.wl_grid * 1e9 < (1450 + 5)\n",
    ").nonzero()\n",
    "\n",
    "\n",
    "(ind_1800_10nm,) = np.logical_and(\n",
    "    (1800 - 5) < pulse.wl_grid * 1e9, pulse.wl_grid * 1e9 < (1800 + 5)\n",
    ").nonzero()\n",
    "\n",
    "pwr_1450_mW = simpson(p_v_out[ind_1450_10nm], pulse.v_grid[ind_1450_10nm]) * 200e6 * 1e3\n",
    "pwr_1800_mW = simpson(p_v_out[ind_1800_10nm], pulse.v_grid[ind_1800_10nm]) * 200e6 * 1e3\n"
   ]
  },
  {
   "cell_type": "code",
   "execution_count": null,
   "id": "d1c51231",
   "metadata": {
    "scrolled": true
   },
   "outputs": [],
   "source": [
    "pwr_1450_mW"
   ]
  },
  {
   "cell_type": "code",
   "execution_count": null,
   "id": "ede92f95",
   "metadata": {
    "scrolled": true
   },
   "outputs": [],
   "source": [
    "pwr_1800_mW"
   ]
  },
  {
   "cell_type": "code",
   "execution_count": null,
   "id": "150e68c4",
   "metadata": {},
   "outputs": [],
   "source": []
  }
 ],
 "metadata": {
  "kernelspec": {
   "display_name": "Python 3 (ipykernel)",
   "language": "python",
   "name": "python3"
  },
  "language_info": {
   "codemirror_mode": {
    "name": "ipython",
    "version": 3
   },
   "file_extension": ".py",
   "mimetype": "text/x-python",
   "name": "python",
   "nbconvert_exporter": "python",
   "pygments_lexer": "ipython3",
   "version": "3.8.16"
  }
 },
 "nbformat": 4,
 "nbformat_minor": 5
}
